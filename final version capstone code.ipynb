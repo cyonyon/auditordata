{
 "cells": [
  {
   "cell_type": "markdown",
   "metadata": {
    "tags": []
   },
   "source": [
    "# Group Lab 2\n"
   ]
  },
  {
   "cell_type": "markdown",
   "metadata": {
    "tags": []
   },
   "source": [
    "## Scoring Guide:\n",
    "- Total Points Available: 20 points\n",
    "    - 5 points: • Demonstrated and applied at least one statistical method to analyze variable correlation, validity of data, time-series\n",
    "                   trend, or other method, OR developed a descriptive, predictive, or prescriptive data model.\n",
    "                • Included rough draft of 2-3 (two to three) data visualizations to be used in final capstone presentation\n",
    "    - 5 points: Presentation of the project given to class was well organized, and DID NOT EXCEED ten (10) minutes"
   ]
  },
  {
   "cell_type": "code",
   "execution_count": 244,
   "metadata": {
    "tags": []
   },
   "outputs": [],
   "source": [
    "#Team 1 Mchmil, JFlores, LMcHenry, LRyan, CYonley\n",
    "#Problem statement\n",
    "#Why do certain areas have higher land value compared to building value? (compare price per acre or price per square foot)"
   ]
  },
  {
   "cell_type": "code",
   "execution_count": 245,
   "metadata": {},
   "outputs": [],
   "source": [
    "#load necessary packages\n",
    "import matplotlib.pyplot as plt\n",
    "import numpy as np\n",
    "import pandas as pd\n",
    "import seaborn as sns\n",
    "import statsmodels.api as sm\n",
    "from math import exp"
   ]
  },
  {
   "cell_type": "code",
   "execution_count": 246,
   "metadata": {},
   "outputs": [
    {
     "data": {
      "text/plain": [
       "<Figure size 960x800 with 0 Axes>"
      ]
     },
     "metadata": {},
     "output_type": "display_data"
    }
   ],
   "source": [
    "%matplotlib inline\n",
    "pd.set_option('display.max_column', 200)\n",
    "plt.figure(num=None, figsize=(12, 10), dpi=80, facecolor='w', edgecolor='k')\n",
    "sns.set(rc={'figure.figsize': (12, 10), \"lines.markeredgewidth\": 0.5 })"
   ]
  },
  {
   "cell_type": "code",
   "execution_count": 247,
   "metadata": {},
   "outputs": [
    {
     "name": "stdout",
     "output_type": "stream",
     "text": [
      "35264\n",
      "7053\n"
     ]
    }
   ],
   "source": [
    "# load franklin data\n",
    "franklin_df = pd.read_csv('home1_data.csv', low_memory=False)\n",
    "# rename columns to match charlotte data\n",
    "franklin_df.rename(columns={'AppraisedTaxableLand': 'Land_Value', 'AppraisedTaxableBuilding': 'Building_Value', 'YearBuilt': 'Year_Built', \\\n",
    "                            'USPS_CITY': 'City', 'County': 'CountyMunicipality', 'DESCR1': 'Address'}, inplace=True)\n",
    "franklin_df.shape\n",
    "#create sample of dataset\n",
    "franklin_sample = franklin_df.sample(frac=0.2, random_state=1)\n",
    "print(len(franklin_df))\n",
    "print(len(franklin_sample))\n",
    "franklin_sample.to_csv(\"franklin_sample.csv\")"
   ]
  },
  {
   "cell_type": "code",
   "execution_count": null,
   "metadata": {},
   "outputs": [],
   "source": [
    "# load north carolina data\n",
    "nc_df = pd.read_csv('Parcel_Look_Up.csv', low_memory=False)\n",
    "nc_df.rename(columns={'Building_Type': 'PropertyClass', 'Tax_Fire_District': 'TAXDESI', 'Municipality': 'CountyMunicipality',\\\n",
    "                      'Heated_Sqft': 'Area', 'Total_Acreage': 'Acreage', 'Mailing_Address': 'Address'}, inplace=True)\n",
    "# filter for residential data to match franklin\n",
    "charlotte_df = nc_df[nc_df.PropertyClass == 'RES']\n",
    "charlotte_df.shape\n",
    "#create sample of dataset\n",
    "charlotte_sample = charlotte_df.sample(frac=0.2, random_state=1)\n",
    "print(len(charlotte_df))\n",
    "print(len(charlotte_sample))\n",
    "charlotte_sample.to_csv(\"charlotte_sample.csv\")"
   ]
  },
  {
   "cell_type": "code",
   "execution_count": null,
   "metadata": {
    "tags": []
   },
   "outputs": [],
   "source": [
    "#append both datasets\n",
    "csv_files = ['franklin_sample.csv', 'charlotte_sample.csv']\n",
    "franklin_charlotte_data = pd.DataFrame()\n",
    "\n",
    "# append the CSV files\n",
    "for file in csv_files:\n",
    "    df = pd.read_csv(file, low_memory=False)\n",
    "    franklin_charlotte_data = franklin_charlotte_data.append(df, ignore_index=True)\n",
    "\n",
    "franklin_charlotte_data.head()"
   ]
  },
  {
   "cell_type": "code",
   "execution_count": null,
   "metadata": {},
   "outputs": [],
   "source": [
    "franklin_charlotte_data.to_csv(\"master.csv\")"
   ]
  },
  {
   "cell_type": "code",
   "execution_count": null,
   "metadata": {},
   "outputs": [],
   "source": [
    "# clean data so values match\n",
    "franklin_charlotte_data2 = franklin_charlotte_data.copy()\n",
    "franklin_charlotte_data2.PropertyClass.replace(r'(RES)', value='R', regex=True, inplace=True)\n",
    "franklin_charlotte_data2['CountyMunicipality']=franklin_charlotte_data2['CountyMunicipality'].apply(str.upper)\n",
    "franklin_charlotte_data2.head()"
   ]
  },
  {
   "cell_type": "code",
   "execution_count": null,
   "metadata": {},
   "outputs": [],
   "source": [
    "franklin_charlotte_data2.PropertyClass.value_counts(normalize=True)\n",
    "#sns.countplot(y=franklin_charlotte_data2.PropertyClass)"
   ]
  },
  {
   "cell_type": "code",
   "execution_count": null,
   "metadata": {},
   "outputs": [],
   "source": [
    "franklin_charlotte_data2.CountyMunicipality.value_counts(normalize=True)\n",
    "#Lab 1 Data Visualization\n",
    "#sns.countplot(y=franklin_charlotte_data2.CountyMunicipality)"
   ]
  },
  {
   "cell_type": "code",
   "execution_count": null,
   "metadata": {},
   "outputs": [],
   "source": [
    "franklin_charlotte_data2.Land_Value.describe()"
   ]
  },
  {
   "cell_type": "code",
   "execution_count": null,
   "metadata": {},
   "outputs": [],
   "source": [
    "franklin_charlotte_data2.Building_Value.describe()"
   ]
  },
  {
   "cell_type": "code",
   "execution_count": null,
   "metadata": {
    "tags": []
   },
   "outputs": [],
   "source": [
    "#Lab 1 Data Visualization\n",
    "#x = franklin_charlotte_data2.Building_Value\n",
    "#sns.displot(x, kde=False, bins=40)"
   ]
  },
  {
   "cell_type": "code",
   "execution_count": null,
   "metadata": {
    "tags": []
   },
   "outputs": [],
   "source": [
    "#Lab 1 Data Visualization\n",
    "#x = franklin_charlotte_data2.Land_Value\n",
    "#sns.displot(x, kde=False, bins=40)"
   ]
  },
  {
   "cell_type": "code",
   "execution_count": null,
   "metadata": {},
   "outputs": [],
   "source": [
    "#Lab 1 Data Visualization\n",
    "#franklin_charlotte_data2.hist()"
   ]
  },
  {
   "cell_type": "code",
   "execution_count": null,
   "metadata": {},
   "outputs": [],
   "source": [
    "#Lab 1 Data Visualization\n",
    "#franklin_charlotte_data2.plot.scatter(x=\"Land_Value\", y=\"Building_Value\", c='green', alpha=0.2)"
   ]
  },
  {
   "cell_type": "code",
   "execution_count": null,
   "metadata": {},
   "outputs": [],
   "source": [
    "#Lab 1 Data Visualization\n",
    "#columns = [\"Land_Value\", \"Building_Value\", \"Year_Built\"]\n",
    "#sns.pairplot(franklin_charlotte_data2[columns])"
   ]
  },
  {
   "cell_type": "code",
   "execution_count": null,
   "metadata": {},
   "outputs": [],
   "source": [
    "#Lab 1 Data Visualization\n",
    "#franklin_charlotte_data2.CountyMunicipality.value_counts().plot(kind=\"bar\")"
   ]
  },
  {
   "cell_type": "code",
   "execution_count": null,
   "metadata": {},
   "outputs": [],
   "source": [
    "franklin_charlotte_data2.round(8).head()"
   ]
  },
  {
   "cell_type": "code",
   "execution_count": null,
   "metadata": {},
   "outputs": [],
   "source": [
    "#only look at data where land >= building \n",
    "mask = franklin_charlotte_data2.Building_Value <= franklin_charlotte_data2.Land_Value"
   ]
  },
  {
   "cell_type": "code",
   "execution_count": null,
   "metadata": {},
   "outputs": [],
   "source": [
    "franklin_charlotte_data2[mask].head()"
   ]
  },
  {
   "cell_type": "code",
   "execution_count": null,
   "metadata": {},
   "outputs": [],
   "source": [
    "#new data frame of greater land values\n",
    "greaterland_df = franklin_charlotte_data2.loc[mask]"
   ]
  },
  {
   "cell_type": "code",
   "execution_count": null,
   "metadata": {},
   "outputs": [],
   "source": [
    "greaterland_df.CountyMunicipality.unique()"
   ]
  },
  {
   "cell_type": "code",
   "execution_count": null,
   "metadata": {},
   "outputs": [],
   "source": [
    "greaterland_df.columns.tolist()"
   ]
  },
  {
   "cell_type": "code",
   "execution_count": null,
   "metadata": {},
   "outputs": [],
   "source": [
    "greaterland_df_columns = ['PID', 'Land_Value', 'Building_Value', 'SchoolDistrict', 'CodeDist', \n",
    "                     'PropertyClass', 'Price', 'Total_Value', 'Acreage', 'Address', 'Area', 'Year_Built', 'CountyMunicipality']\n",
    "\n",
    "greaterland_subset = greaterland_df[greaterland_df_columns].copy()"
   ]
  },
  {
   "cell_type": "code",
   "execution_count": null,
   "metadata": {},
   "outputs": [],
   "source": [
    "greaterland_subset.columns.tolist()\n",
    "greaterland_subset.rename({'Area':'Square_Footage'}, axis=1, inplace=True)"
   ]
  },
  {
   "cell_type": "code",
   "execution_count": null,
   "metadata": {
    "tags": []
   },
   "outputs": [],
   "source": [
    "greaterland_subset.CountyMunicipality.unique()"
   ]
  },
  {
   "cell_type": "code",
   "execution_count": null,
   "metadata": {},
   "outputs": [],
   "source": [
    "greaterland_subset.CountyMunicipality.value_counts()\n",
    "#Charlotte makes up 82% of data where landvalue >= Buildingvalue"
   ]
  },
  {
   "cell_type": "code",
   "execution_count": null,
   "metadata": {},
   "outputs": [],
   "source": [
    "# Histogram countplot for the properties where land value > building value by municipality.\n",
    "sns.countplot(y=greaterland_subset.CountyMunicipality)"
   ]
  },
  {
   "cell_type": "code",
   "execution_count": null,
   "metadata": {},
   "outputs": [],
   "source": [
    "# Pair plot for the properties where land value > building value by municipality.\n",
    "columns = [\"Land_Value\", \"Building_Value\", \"Year_Built\", \"CountyMunicipality\"]\n",
    "sns.pairplot(greaterland_subset[columns], hue = \"CountyMunicipality\")"
   ]
  },
  {
   "cell_type": "code",
   "execution_count": null,
   "metadata": {},
   "outputs": [],
   "source": [
    "greaterland_subset.head()"
   ]
  },
  {
   "cell_type": "code",
   "execution_count": null,
   "metadata": {},
   "outputs": [],
   "source": [
    "#drop rows where address is nan; commenting out due to no nan values\n",
    "#greaterland_subset2 = greaterland_subset[greaterland_subset['Address'].notna()]"
   ]
  },
  {
   "cell_type": "code",
   "execution_count": null,
   "metadata": {},
   "outputs": [],
   "source": [
    "# Add column for Land Value per Acre and omit rows where Acreage = 0.0\n",
    "greaterland_subset[\"Land_Value_per_Acre\"] = greaterland_subset[\"Land_Value\"] // greaterland_subset[\"Acreage\"]\n",
    "mask = greaterland_subset.Acreage > 0.0000\n",
    "greaterland_subset=greaterland_subset.loc[mask]\n",
    "\n",
    "# Add column for Building Value per Sq. Ft.\n",
    "greaterland_subset[\"Building_Value_per_SqFt\"] = greaterland_subset[\"Building_Value\"] // greaterland_subset[\"Square_Footage\"]\n",
    "greaterland_subset.head()\n"
   ]
  },
  {
   "cell_type": "code",
   "execution_count": null,
   "metadata": {},
   "outputs": [],
   "source": [
    "# Scatter plot of relative land and building values.\n",
    "greaterland_subset.plot.scatter(x=\"Land_Value_per_Acre\", y=\"Building_Value_per_SqFt\", c='green', alpha=.5)"
   ]
  },
  {
   "cell_type": "code",
   "execution_count": null,
   "metadata": {},
   "outputs": [],
   "source": [
    "# 25% sample of parcels where land Value >= Building Value\n",
    "greaterland_subset_sample = greaterland_subset.sample(frac=0.20, random_state=1)\n",
    "print(len(greaterland_subset))\n",
    "print(len(greaterland_subset_sample))\n",
    "greaterland_subset_sample"
   ]
  },
  {
   "cell_type": "code",
   "execution_count": null,
   "metadata": {},
   "outputs": [],
   "source": [
    "# Histogram countplot for the sample value by municipality.\n",
    "sns.countplot(y=greaterland_subset_sample.CountyMunicipality)"
   ]
  },
  {
   "cell_type": "code",
   "execution_count": null,
   "metadata": {
    "tags": []
   },
   "outputs": [],
   "source": [
    "#import mecklenburg auditor waterfront property data\n",
    "nc_waterfront = pd.read_csv('mecklenburg_propertyresults-water.csv', low_memory=False)"
   ]
  },
  {
   "cell_type": "code",
   "execution_count": null,
   "metadata": {
    "tags": []
   },
   "outputs": [],
   "source": [
    "#match columns parcel id= parcel\n",
    "nc_waterfront.rename({'Parcel':'PID'}, axis=1, inplace=True)\n",
    "nc_waterfront['PID']= nc_waterfront['PID'].replace('-', '', regex=True).astype(int)\n",
    "greaterland_subset_sample['PID']=greaterland_subset_sample['PID'].replace('-', '', regex=True).astype(int)"
   ]
  },
  {
   "cell_type": "code",
   "execution_count": null,
   "metadata": {},
   "outputs": [],
   "source": [
    "#join by ParcelID greaterland_subset_sample\n",
    "greaterland_subset_sample.merge(nc_waterfront, on ='PID', how='left')\n",
    "print(len(greaterland_subset_sample))"
   ]
  },
  {
   "cell_type": "code",
   "execution_count": null,
   "metadata": {},
   "outputs": [],
   "source": [
    "greaterland_subset_sample"
   ]
  },
  {
   "cell_type": "code",
   "execution_count": null,
   "metadata": {},
   "outputs": [],
   "source": [
    "greaterland_subset_sample_t1 = greaterland_subset_sample.copy()"
   ]
  },
  {
   "cell_type": "code",
   "execution_count": null,
   "metadata": {
    "tags": []
   },
   "outputs": [],
   "source": [
    "greaterland_subset_sample_t1.corr()\n"
   ]
  },
  {
   "cell_type": "code",
   "execution_count": null,
   "metadata": {
    "tags": []
   },
   "outputs": [],
   "source": [
    "#from scipy import stats\n",
    "#pred_vars = ['Total_Value', \\\n",
    "             #'Land_Value_per_Acre','Building_Value_per_SqFt']\n",
    "#print(f\"Skew:\\n{greaterland_subset_sample_t1[pred_vars].skew()}\\n\\n\")\n",
    "#print(f\"Kurtosis:\\n{greaterland_subset_sample_t1[pred_vars].kurtosis()}\\n\\n\")\n",
    "#sns.set(font_scale=1.0)\n",
    "#display(greaterland_subset_sample_t1[pred_vars].hist(bins=80))\n",
    "greaterland_subset_sample_t1.replace([np.inf, -np.inf], 0, inplace=True)\n",
    "from scipy import stats\n",
    "greaterland_subset_sample_t1['Building_Value_per_SqFt'] = greaterland_subset_sample_t1['Building_Value_per_SqFt'].fillna(0)\n",
    "greaterland_subset_sample_t1['Building_Value_per_SqFt'] = greaterland_subset_sample_t1['Building_Value_per_SqFt'].copy()\n",
    "pred_vars = ['Total_Value',\\\n",
    "'Land_Value_per_Acre','Building_Value_per_SqFt']\n",
    "print(f\"Skew:\\n{greaterland_subset_sample_t1[pred_vars].skew()}\\n\\n\")\n",
    "print(f\"Kurtosis:\\n{greaterland_subset_sample_t1[pred_vars].kurtosis()}\\n\\n\")\n",
    "sns.set(font_scale=1.0)\n",
    "display(greaterland_subset_sample_t1[pred_vars].hist(bins=80))\n",
    "#plt.hist(greaterland_subset_sample_t1[pred_vars], range=[0, 100000])"
   ]
  },
  {
   "cell_type": "code",
   "execution_count": null,
   "metadata": {
    "tags": []
   },
   "outputs": [],
   "source": [
    "from scipy.stats import boxcox\n",
    "from scipy import special\n",
    "from sklearn.model_selection import train_test_split\n",
    "import statsmodels.api as sm\n",
    "import statsmodels.formula.api as smf\n",
    "\n",
    "pd.plotting.register_matplotlib_converters()\n",
    "%matplotlib inline\n",
    "pd.set_option('display.max_column', 200)\n",
    "plt.figure(num=None, figsize=(12, 10), dpi=80, facecolor='w', edgecolor='k')\n",
    "sns.set(rc={'figure.figsize': (12, 10), \"lines.markeredgewidth\": 0.5 })\n",
    "\n",
    "\n",
    "\n",
    "print(greaterland_subset_sample_t1)\n",
    "train, test = train_test_split(greaterland_subset_sample_t1, test_size=.5, random_state=0, shuffle=True)"
   ]
  },
  {
   "cell_type": "code",
   "execution_count": null,
   "metadata": {
    "tags": []
   },
   "outputs": [],
   "source": [
    "#OLS for Total_Value\n",
    "f_rev = 'Total_Value ~ Land_Value_per_Acre + Building_Value_per_SqFt'\n",
    "model = smf.ols(formula=f_rev, data=train).fit()\n",
    "model.summary()"
   ]
  },
  {
   "cell_type": "code",
   "execution_count": null,
   "metadata": {},
   "outputs": [],
   "source": [
    "greaterland_subset_sample_t1.to_csv(\"Updatedsample2.csv\")"
   ]
  },
  {
   "cell_type": "code",
   "execution_count": null,
   "metadata": {},
   "outputs": [],
   "source": []
  }
 ],
 "metadata": {
  "kernelspec": {
   "display_name": "Python 3 (ipykernel)",
   "language": "python",
   "name": "python3"
  },
  "language_info": {
   "codemirror_mode": {
    "name": "ipython",
    "version": 3
   },
   "file_extension": ".py",
   "mimetype": "text/x-python",
   "name": "python",
   "nbconvert_exporter": "python",
   "pygments_lexer": "ipython3",
   "version": "3.8.13"
  }
 },
 "nbformat": 4,
 "nbformat_minor": 4
}
